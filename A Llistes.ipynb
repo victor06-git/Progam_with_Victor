{
 "cells": [
  {
   "cell_type": "markdown",
   "metadata": {},
   "source": [
    "<div style=\"display: flex; width: 100%;\">\n",
    "    <div style=\"flex: 1; padding: 0px;\">\n",
    "        <p>© Albert Palacios Jiménez, 2023</p>\n",
    "    </div>\n",
    "    <div style=\"flex: 1; padding: 0px; text-align: right;\">\n",
    "        <img src=\"../assets/ieti.png\" height=\"32\" alt=\"Logo de IETI\" style=\"max-height: 32px;\">\n",
    "    </div>\n",
    "</div>\n",
    "<hr/>"
   ]
  },
  {
   "cell_type": "markdown",
   "metadata": {},
   "source": [
    "# Dades, Llistes (aka Arrays)\n",
    "\n",
    "A vegades necessitem que una variable guardi informació de més d'un element.\n",
    "\n",
    "Per exemple, si volem guardar els noms de tots els alumnes d'una classe, o els resultats de tots els partits d'una lliga.\n",
    "\n",
    "Per a això, podem utilitzar les llistes.\n",
    "\n",
    "**Una llista és una variable que conté una sèrie d'elements**, separats per comes, i que es defineixen entre claudàtors `[]`."
   ]
  },
  {
   "cell_type": "code",
   "execution_count": 1,
   "metadata": {},
   "outputs": [
    {
     "name": "stdout",
     "output_type": "stream",
     "text": [
      "Llista de números: [1, 2, 3, 4, 5]\n",
      "Llista de cotxes: ['Tesla', 'Audi', 'Renault', 'Ferrari']\n"
     ]
    }
   ],
   "source": [
    "# Exemples de llistes\n",
    "llista = [1, 2, 3, 4, 5]\n",
    "print(f\"Llista de números: {llista}\")\n",
    "\n",
    "cotxes = [\"Tesla\", \"Audi\", \"Renault\", \"Ferrari\"]\n",
    "print(f\"Llista de cotxes: {cotxes}\")\n"
   ]
  },
  {
   "cell_type": "markdown",
   "metadata": {},
   "source": [
    "## Accedir als elements d'una llista\n",
    "\n",
    "Per accedir als elements d'una llista, utilitzem els claudàtors `[]` amb un índex numèric.\n",
    "\n",
    "L'índex numèric és la posició de l'element dins la llista, començant per 0.\n",
    "\n",
    "Aquest índex en serveix per:\n",
    "\n",
    "* **Llegir** el valor d'un element de la llista\n",
    "* **Modificar** el valor d'un element de la llista"
   ]
  },
  {
   "cell_type": "code",
   "execution_count": 2,
   "metadata": {},
   "outputs": [
    {
     "name": "stdout",
     "output_type": "stream",
     "text": [
      "El cotxe a la posició [0] és: 'Tesla', i el de la posició [3] és: 'Ferrari'\n"
     ]
    }
   ],
   "source": [
    "# Exemple de llegir un element de la llista\n",
    "cotxes = [\"Tesla\", \"Audi\", \"Renault\", \"Ferrari\"]\n",
    "cotxe0 = cotxes[0]\n",
    "cotxe3 = cotxes[3]\n",
    "print(f\"El cotxe a la posició [0] és: '{cotxe0}', i el de la posició [3] és: '{cotxe3}'\")"
   ]
  },
  {
   "cell_type": "code",
   "execution_count": 3,
   "metadata": {},
   "outputs": [
    {
     "name": "stdout",
     "output_type": "stream",
     "text": [
      "La llista modificada és: ['Tesla', 'Audi', 'Seat', 'Ferrari']\n"
     ]
    }
   ],
   "source": [
    "# Exemple de modificar un element de la llista\n",
    "cotxes = [\"Tesla\", \"Audi\", \"Renault\", \"Ferrari\"]\n",
    "cotxes[2] = \"Seat\"\n",
    "print(f\"La llista modificada és: {cotxes}\")"
   ]
  },
  {
   "cell_type": "markdown",
   "metadata": {},
   "source": [
    "## Longitud d'una llista\n",
    "\n",
    "Per saber la longitud d'una llista, utilitzem la funció `len()`."
   ]
  },
  {
   "cell_type": "code",
   "execution_count": 4,
   "metadata": {},
   "outputs": [
    {
     "name": "stdout",
     "output_type": "stream",
     "text": [
      "La llista té 7 elements\n"
     ]
    }
   ],
   "source": [
    "# Exemple de longitud de llista\n",
    "marques = [\"Canon\", \"Nikon\", \"Sony\", \"Fujifilm\", \"Olympus\", \"Panasonic\", \"Leica\"]\n",
    "longitud_llista = len(marques)\n",
    "print(f\"La llista té {longitud_llista} elements\")"
   ]
  },
  {
   "cell_type": "markdown",
   "metadata": {},
   "source": [
    "## Exercici 0\n",
    "\n",
    "Fes una funció (escriu_llista), que rebi una llista i escrigui a cada línia:\n",
    "\n",
    "L'element a la posició X de la llista és 'Y'\n",
    "\n",
    "Prova-la amb:\n",
    "\n",
    "* ['Matí', 'Tarda', 'Vespre', 'Nit']\n",
    "* ['Dilluns', 'Dimarts', 'Dimecres', 'Dijous', 'Divendres', 'Dissabte', 'Diumenge']\n",
    "* ['Gener', 'Febrer', 'Març', 'Abril', 'Maig', 'Juny', 'Juliol', 'Agost', 'Setembre', 'Octubre', 'Novembre', 'Desembre']"
   ]
  },
  {
   "cell_type": "code",
   "execution_count": 5,
   "metadata": {},
   "outputs": [
    {
     "name": "stdout",
     "output_type": "stream",
     "text": [
      "L'element a la posició [0] de la llista és 'Gener'\n",
      "L'element a la posició [1] de la llista és 'Febrer'\n",
      "L'element a la posició [2] de la llista és 'Març'\n",
      "L'element a la posició [3] de la llista és 'Abril'\n",
      "L'element a la posició [4] de la llista és 'Maig'\n",
      "L'element a la posició [5] de la llista és 'Juny'\n",
      "L'element a la posició [6] de la llista és 'Juliol'\n",
      "L'element a la posició [7] de la llista és 'Agost'\n",
      "L'element a la posició [8] de la llista és 'Setembre'\n",
      "L'element a la posició [9] de la llista és 'Octubre'\n",
      "L'element a la posició [10] de la llista és 'Novembre'\n",
      "L'element a la posició [11] de la llista és 'Desembre'\n"
     ]
    }
   ],
   "source": [
    "# Fes aquí el codi de l'exercici 0\n",
    "def escriu_llista(array):\n",
    "    for index in range(0,len(array)):\n",
    "        print(f\"L'element a la posició [{index}] de la llista és '{array[index]}'\")\n",
    "\n",
    "escriu_llista(['Gener', 'Febrer', 'Març', 'Abril', 'Maig', 'Juny', 'Juliol', 'Agost', 'Setembre', 'Octubre', 'Novembre', 'Desembre'])\n",
    "        \n",
    "    \n",
    "\n"
   ]
  },
  {
   "cell_type": "markdown",
   "metadata": {},
   "source": [
    "Funció 'Append'\n",
    "\n",
    "Per afegir elements al final de una llista fem servir la funció 'append'"
   ]
  },
  {
   "cell_type": "code",
   "execution_count": 6,
   "metadata": {},
   "outputs": [
    {
     "name": "stdout",
     "output_type": "stream",
     "text": [
      "['Gos', 'Gat']\n"
     ]
    }
   ],
   "source": [
    "#Exemple\n",
    "llista = []\n",
    "llista.append(\"Gos\")\n",
    "llista.append(\"Gat\")\n",
    "print(llista)"
   ]
  },
  {
   "cell_type": "markdown",
   "metadata": {},
   "source": [
    "## Exercici 1\n",
    "\n",
    "Fes una funció que rebi una llista de cadenes de text que representen números, i retorni una llista de números.\n",
    "\n",
    "Exemple:\n",
    "\n",
    "['4', '5', '6', '7'] -> [4, 5, 6, 7]"
   ]
  },
  {
   "cell_type": "code",
   "execution_count": 10,
   "metadata": {},
   "outputs": [
    {
     "data": {
      "text/plain": [
       "[4, 5, 6, 7]"
      ]
     },
     "execution_count": 10,
     "metadata": {},
     "output_type": "execute_result"
    }
   ],
   "source": [
    "# Fes aquí el codi de l'exercici 1\n",
    "\n",
    "def demana_num(lista):\n",
    "    listaHecha = []\n",
    "    for i in lista:\n",
    "        listaHecha.append(int(i))\n",
    "    return listaHecha\n",
    "\n",
    "numeros = ['4','5','6','7']\n",
    "demana_num(numeros)\n",
    "\n"
   ]
  },
  {
   "cell_type": "markdown",
   "metadata": {},
   "source": [
    "## Funcions de llistes\n",
    "\n",
    "Els següents exemples mostren funcions que poden ser útils amb les llistes."
   ]
  },
  {
   "cell_type": "code",
   "execution_count": null,
   "metadata": {},
   "outputs": [],
   "source": [
    "# Exemple de 'màxim' i 'minim'\n",
    "numeros = [100, 22, 34, 14, 85]\n",
    "\n",
    "maxim = max(numeros)\n",
    "print(f\"El màxim de la llista és: {maxim}\")\n",
    "\n",
    "minim = min(numeros)\n",
    "print(f\"El mínim de la llista és: {minim}\")"
   ]
  },
  {
   "cell_type": "code",
   "execution_count": null,
   "metadata": {},
   "outputs": [],
   "source": [
    "# Exemple de buscar un element a la llista\n",
    "marques = [\"Canon\", \"Nikon\", \"Sony\", \"Fujifilm\", \"Olympus\", \"Panasonic\", \"Leica\"]\n",
    "posicioNikon = marques.index(\"Nikon\")\n",
    "posicioOlympus = marques.index(\"Olympus\")\n",
    "print(f\"La posició de Nikon és: {posicioNikon}\")\n",
    "print(f\"La posició de Olympus és: {posicioOlympus}\")"
   ]
  },
  {
   "cell_type": "code",
   "execution_count": null,
   "metadata": {},
   "outputs": [],
   "source": [
    "# Exemple de comptar elements repetits en una llista\n",
    "lletres = [\"B\", \"U\", \"A\", \"Z\", \"Q\", \"F\", \"B\", \"M\", \"B\", \"Y\", \"T\", \"A\", \"S\", \"K\"]\n",
    "comptadorA = lletres.count(\"A\")\n",
    "comptadorB = lletres.count(\"B\")\n",
    "\n",
    "print(f\"La lletra 'A' apareix {comptadorA} vegades\")\n",
    "print(f\"La lletra 'B' apareix {comptadorB} vegades\")"
   ]
  },
  {
   "cell_type": "markdown",
   "metadata": {},
   "source": [
    "## De llistes a strings (i viceversa)\n",
    "\n",
    "Per convertir una llista a un string, utilitzem la funció `join()`\n",
    "Per convertir un string a una llista, utilitzem la funció `split()`\n",
    "\n",
    "Aquestes funcions necessiten que indiquem un 'separador', que és el que s'utilitzarà per delimitar els elements de la llista.\n",
    "\n",
    "Aquests separadors, són cadenes de text.\n",
    "\n",
    "* [\"Matí\", \"Tarda\", \"Vespre\", \"Nit\"] amb separador \", \" equival a: \"Matí, Tarda, Vespre, Nit\"\n",
    "* \"Tot|està|per|fer\" amb separador \"|\" equival a: [\"Tot\", \"està\", \"per\", \"fer\"]"
   ]
  },
  {
   "cell_type": "code",
   "execution_count": 11,
   "metadata": {},
   "outputs": [
    {
     "name": "stdout",
     "output_type": "stream",
     "text": [
      "La llista és: ['Hola', 'que', 'tal', 'estàs']\n",
      "La cadena de text amb asteriscs és: Hola<>que<>tal<>estàs\n",
      "La cadena de text amb guions és: Hola*que*tal*estàs\n",
      "La cadena de text amb espais és: Hola que tal estàs\n"
     ]
    }
   ],
   "source": [
    "# Exemple de tranformar una llista en una cadena de text\n",
    "llista = [\"Hola\", \"que\", \"tal\", \"estàs\"]\n",
    "\n",
    "# La funció 'join' transforma una llista en una cadena de text\n",
    "# a la funció join se li indica quin és el separador que ha d'anar entre els elements de la llista\n",
    "cadenaSeparador = \"<>\".join(llista)\n",
    "cadenaAsteriscs = \"*\".join(llista)\n",
    "cadenaEspais = \" \".join(llista)\n",
    "\n",
    "print(f\"La llista és: {llista}\")\n",
    "print(f\"La cadena de text amb asteriscs és: {cadenaSeparador}\")\n",
    "print(f\"La cadena de text amb guions és: {cadenaAsteriscs}\")\n",
    "print(f\"La cadena de text amb espais és: {cadenaEspais}\")"
   ]
  },
  {
   "cell_type": "code",
   "execution_count": 12,
   "metadata": {},
   "outputs": [
    {
     "name": "stdout",
     "output_type": "stream",
     "text": [
      "La llista és: ['Hola', 'que', 'tal', 'estàs']\n",
      "La llista és: ['Hola', 'que', 'tal', 'estàs']\n"
     ]
    }
   ],
   "source": [
    "# Exemple de transformar una cadena de text en una llista\n",
    "cadena = \"Hola que tal estàs\"\n",
    "llista = cadena.split()\n",
    "print(f\"La llista és: {llista}\")\n",
    "\n",
    "cadena = \"Hola<>que<>tal<>estàs\"\n",
    "llista = cadena.split(\"<>\")\n",
    "print(f\"La llista és: {llista}\")"
   ]
  },
  {
   "cell_type": "code",
   "execution_count": 13,
   "metadata": {},
   "outputs": [
    {
     "name": "stdout",
     "output_type": "stream",
     "text": [
      "La llista és: ['5', '4', '3', '7', '6', '9', '3']\n"
     ]
    }
   ],
   "source": [
    "# Exemple de tranformar una cadena de text de números en una llista de números\n",
    "txt = '5,4,3,7,6,9,3'\n",
    "\n",
    "# Separa la cadena en una llista (amb el separador ',')\n",
    "llista = txt.split(',') \n",
    "print(f\"La llista és: {llista}\")"
   ]
  },
  {
   "cell_type": "markdown",
   "metadata": {},
   "source": [
    "## Exercici 2\n",
    "\n",
    "Fes un programa que demana a l'usuari una llista de números enters separats per comes.\n",
    "\n",
    "A continuació fes una funció (calcula_valors) que retorni aquests valors:\n",
    "\n",
    "* La suma de tots els elements de la llista\n",
    "* El valor més gran de la llista\n",
    "* El valor més petit de la llista\n",
    "* La mitjana de tots els elements de la llista\n",
    "\n",
    "Comprova:\n",
    "\n",
    "* \"4,8,7,2,5,3,9\" > Suma = 38, Màxim = 9, Mínim = 2, Mitjana = 5.43\n",
    "* \"7,2,4,8,4,2\" > Suma = 27, Màxim = 8, Mínim = 2, Mitjana = 4.5"
   ]
  },
  {
   "cell_type": "code",
   "execution_count": 16,
   "metadata": {},
   "outputs": [],
   "source": [
    "# Fes aquí l'exercici 2\n",
    "def lletres_a_numeros(str_array):\n",
    "    int_array = []\n",
    "    for element in str_array:\n",
    "        int_array.append(int(element))\n",
    "    return int_array\n",
    "\n",
    "def calcula_valors(string_de_numeros):\n",
    "    str_array = string_de_numeros.split(\",\")\n",
    "    int_array = lletres_a_numeros(str_array)\n",
    "    suma = sum(int_array)\n",
    "    max_array = max(int_array)\n",
    "    min_array = min(int_array)\n",
    "    mean_array = suma / len(int_array)\n",
    "    print(f\"{string_de_numeros} > Suma = {suma}, Màxim = {max_array}, Mínim = {min_array}, Mitjana = {mean_array:.2f}\")\n",
    "\n",
    "\n",
    "user_input = input(\"Introduce una lista de números enteros, separados por comas: \")\n",
    "calcula_valors(user_input)\n",
    "    "
   ]
  },
  {
   "cell_type": "markdown",
   "metadata": {},
   "source": [
    "## Obtenir porcions d'una llista\n",
    "\n",
    "Per obtenir una porció d'una llista, utilitzem la funció `slice()`\n",
    "\n",
    "Aquesta funció necessita que indiquem un índex d'inici i un índex de final.\n",
    "\n",
    "```\n",
    "[\"Matí\", \"Tarda\", \"Vespre\", \"Nit\"] amb índexs 1 i 3 equival a: [\"Tarda\", \"Vespre\"]\n",
    "```"
   ]
  },
  {
   "cell_type": "code",
   "execution_count": 17,
   "metadata": {},
   "outputs": [
    {
     "name": "stdout",
     "output_type": "stream",
     "text": [
      "La llista de la posició 0 a la 3 és: ['Tesla', 'Audi', 'Renault']\n",
      "La llista de la posició 1 a la 4 és: ['Audi', 'Renault', 'Ferrari']\n",
      "La llista de la posició 2 a la 5 és: ['Renault', 'Ferrari', 'Seat']\n",
      "La llista de la posició 4 fins al final és: ['Seat', 'BMW', 'Mercedes']\n"
     ]
    }
   ],
   "source": [
    "# Exemple d'obtenir porcions d'una llista\n",
    "cotxes = [\"Tesla\", \"Audi\", \"Renault\", \"Ferrari\", \"Seat\", \"BMW\", \"Mercedes\"]\n",
    "\n",
    "cotxesInici = cotxes[:3]\n",
    "print(f\"La llista de la posició 0 a la 3 és: {cotxesInici}\")\n",
    "\n",
    "cotxes2 = cotxes[1:4]\n",
    "print(f\"La llista de la posició 1 a la 4 és: {cotxes2}\")\n",
    "\n",
    "cotxes3 = cotxes[2:5]\n",
    "print(f\"La llista de la posició 2 a la 5 és: {cotxes3}\")\n",
    "\n",
    "cotxesFinal = cotxes[4:]\n",
    "print(f\"La llista de la posició 4 fins al final és: {cotxesFinal}\")"
   ]
  },
  {
   "cell_type": "markdown",
   "metadata": {},
   "source": [
    "## Modificar llistes\n",
    "\n",
    "Hi ha diferents maneres d'afegir elements al principi d'una llista\n",
    "\n",
    "* `insert()` permet afegir un element a una posició concreta\n",
    "*  \\+ *(sumar)* permet afegir una llista a una altra llista\n",
    "* [:] també permet afegir una llista a una altra llista\n",
    "* `append()` permet afegir un element al final d'una llista\n",
    "* `remove()` permet eliminar un element d'una llista\n",
    "* `pop()` permet eliminar un element d'una llista, indicant la posició\n",
    "*  \\* *(multiplicar)* permet repetir una llista"
   ]
  },
  {
   "cell_type": "code",
   "execution_count": 18,
   "metadata": {},
   "outputs": [
    {
     "name": "stdout",
     "output_type": "stream",
     "text": [
      "La llista és: ['Nesquik', 'Fanta', 'Gallo', 'Toblerone']\n",
      "La llista és: ['Nesquik', 'Fanta', 'Coca-Cola', 'Gallo', 'Toblerone']\n"
     ]
    }
   ],
   "source": [
    "# Exemple de insert\n",
    "marques = [\"Nesquik\", \"Fanta\", \"Gallo\", \"Toblerone\"]\n",
    "print(f\"La llista és: {marques}\")\n",
    "\n",
    "marques.insert(2, \"Coca-Cola\")\n",
    "print(f\"La llista és: {marques}\")"
   ]
  },
  {
   "cell_type": "code",
   "execution_count": 19,
   "metadata": {},
   "outputs": [
    {
     "name": "stdout",
     "output_type": "stream",
     "text": [
      "La llista és: ['Nesquik', 'Fanta', 'Gallo', 'Toblerone', 'Cacaolat', 'ColaCao', 'Coca-Cola', 'Nestea']\n"
     ]
    }
   ],
   "source": [
    "# Exemples de concatenar (ajuntar) llistes\n",
    "marques0 = [\"Nesquik\", \"Fanta\", \"Gallo\", \"Toblerone\"]\n",
    "marques1 = [\"Cacaolat\", \"ColaCao\"]\n",
    "marques2 = [\"Coca-Cola\", \"Nestea\"]\n",
    "marques = marques0 + marques1 + marques2\n",
    "print(f\"La llista és: {marques}\")"
   ]
  },
  {
   "cell_type": "code",
   "execution_count": null,
   "metadata": {},
   "outputs": [],
   "source": [
    "# Exemple de substituir una part de la llista\n",
    "# \"Fanta\" per \"Kellogs\" i \"Gallo\" per \"Frigo\"\n",
    "marques = [\"Nesquik\", \"Fanta\", \"Gallo\", \"Toblerone\"]\n",
    "marques[1:3] = [\"Kellogs\", \"Frigo\"]\n",
    "print(f\"La llista és: {marques}\")"
   ]
  },
  {
   "cell_type": "code",
   "execution_count": null,
   "metadata": {},
   "outputs": [],
   "source": [
    "# Exemple d'afegir un element al final de la llista\n",
    "marques = [\"Nesquik\", \"Fanta\", \"Frigo\"]\n",
    "marques.append(\"La Piara\")\n",
    "print(f\"La llista és: {marques}\")"
   ]
  },
  {
   "cell_type": "code",
   "execution_count": null,
   "metadata": {},
   "outputs": [],
   "source": [
    "# Exemple de treure un element de la llista\n",
    "marques = [\"Nesquik\", \"Fanta\", \"Frigo\", \"Toblerone\"]\n",
    "marques.remove(\"Frigo\")\n",
    "print(f\"La llista és: {marques}\")"
   ]
  },
  {
   "cell_type": "code",
   "execution_count": null,
   "metadata": {},
   "outputs": [],
   "source": [
    "# Exemple de treure un element de la llista a partir de l'índex\n",
    "marques = [\"Nesquik\", \"Fanta\", \"Frigo\", \"Toblerone\"]\n",
    "posicio_frigo = marques.index(\"Frigo\")\n",
    "marques.pop(posicio_frigo)\n",
    "print(f\"La llista és: {marques}\")"
   ]
  },
  {
   "cell_type": "code",
   "execution_count": null,
   "metadata": {},
   "outputs": [],
   "source": [
    "# Exemple de treure l'últim element de la llista\n",
    "marques = [\"Nesquik\", \"Fanta\", \"Frigo\", \"Toblerone\"]\n",
    "marques.pop()\n",
    "print(f\"La llista és: {marques}\")"
   ]
  },
  {
   "cell_type": "code",
   "execution_count": null,
   "metadata": {},
   "outputs": [],
   "source": [
    "# Exemple de multiplicar una llista\n",
    "llista = [\"a\", \"b\", \"c\"]\n",
    "llista = llista * 3\n",
    "print(f\"La llista és: {llista}\")"
   ]
  },
  {
   "cell_type": "markdown",
   "metadata": {},
   "source": [
    "## Exercici 3\n",
    "\n",
    "Defineix una funció (separa_vocals) que a partir d'una llista de paraules, retorna dues llistes:\n",
    "\n",
    "* La primera conté totes les paraules que comencen per vocal\n",
    "* La segona conté totes les paraules que comencen per consonant\n",
    "\n",
    "Després defineix la funció (vocals_al_final) que a partir de una llista de paraules, retorna una llista on les paraules que començen per vocal estàn al final de la llista\n",
    "\n",
    "L'entrada ha de ser un **input** de l'usuari.\n",
    "\n",
    "Prova-ho amb:\n",
    "\n",
    "* \"Hola, ara mateix estem aprenent Python\" > [\"Hola,\", \"mateix\", \"Python\", \"ara\", \"estem\", \"aprenent\"]\n",
    "* \"Demà és festa i anem a la platja\" > [\"Demà\", \"festa\", \"la\", \"platja\", \"és\", \"i\", \"anem\", \"a\"]"
   ]
  },
  {
   "cell_type": "code",
   "execution_count": null,
   "metadata": {},
   "outputs": [],
   "source": [
    "# Fes aquí el codi de l'exercici 3\n",
    "llista_usuari = input(\"Escriu una frase: \")\n",
    "def separ_vocals(llista_usuari):\n",
    "    #llista comencen per vocal\n",
    "    frase = llista\n",
    "    vocal = \"aeiouàèìòùáéíóúAEIOU\"\n",
    "    if frase.startswith(vocal):\n",
    "        print(llista_usuari(','))\n",
    "\n",
    "    #llista conté paraules que comencen per consonant\n",
    "    else:\n",
    "        print(llista_usuari.split(','))\n",
    "    return vocal    \n",
    "def vocals_al_final(llista):\n",
    "    frase = llista.split()\n",
    "    #Paraules llista(fer split y després reconèixer paraules)\n",
    "    vocal = \"aeiouàèìòùáéíóúAEIOU\"\n",
    "    if frase.endswith(vocal):\n"
   ]
  },
  {
   "cell_type": "markdown",
   "metadata": {},
   "source": [
    "## Matrius (llistes de llistes)\n",
    "\n",
    "Una matriu és una llista que està formada per llistes."
   ]
  },
  {
   "cell_type": "code",
   "execution_count": 20,
   "metadata": {},
   "outputs": [
    {
     "name": "stdout",
     "output_type": "stream",
     "text": [
      "El producte a la posicó 1 és: ['Escombra', 5.49]\n",
      "El nom del producte a la posicó 1 és: Escombra\n",
      "El preu del producte a la posicó 1 és: 5.49\n"
     ]
    }
   ],
   "source": [
    "# Exemple d'accedir a les posicions d'una matriu:\n",
    "productes = [\n",
    "    [\"Fregona\", 10.99],\n",
    "    [\"Escombra\", 5.49],\n",
    "    [\"Galleda\", 8.95],\n",
    "    [\"Drap\", 2.99],\n",
    "    [\"Fregall\", 6.75]\n",
    "]\n",
    "\n",
    "producte1 = productes[1]\n",
    "nom1 = productes[1][0] # equival a producte1[0]\n",
    "preu1 = productes[1][1] # equival a producte1[1]\n",
    "\n",
    "print(f\"El producte a la posicó 1 és: {producte1}\")\n",
    "print(f\"El nom del producte a la posicó 1 és: {nom1}\")\n",
    "print(f\"El preu del producte a la posicó 1 és: {preu1}\")\n"
   ]
  },
  {
   "cell_type": "code",
   "execution_count": 32,
   "metadata": {},
   "outputs": [
    {
     "name": "stdout",
     "output_type": "stream",
     "text": [
      "El producte 'Fregona' costa 10.99 €\n",
      "El producte 'Escombra' costa 5.49 €\n",
      "El producte 'Galleda' costa 8.95 €\n",
      "El producte 'Drap' costa 2.99 €\n",
      "El producte 'Fregall' costa 6.75 €\n",
      "Suma total: 35.17\n",
      "Mitjana: 7.03\n"
     ]
    }
   ],
   "source": [
    "# Exemple d'escriure una elements d'una matriu\n",
    "productes = [\n",
    "    [\"Fregona\", 10.99],\n",
    "    [\"Escombra\", 5.49],\n",
    "    [\"Galleda\", 8.95],\n",
    "    [\"Drap\", 2.99],\n",
    "    [\"Fregall\", 6.75]\n",
    "]\n",
    "\n",
    "def escriu_productes():\n",
    "    suma = 0\n",
    "    for x in range(0, len(productes)):\n",
    "        producte = productes[x]\n",
    "        nom = producte[0]\n",
    "        preu = producte[1]\n",
    "        suma = suma + preu\n",
    "        print(f\"El producte '{nom}' costa {preu} €\")\n",
    "    print(f\"Suma total: {suma}\")\n",
    "    print(f\"Mitjana: {round(suma / len(productes), 2)}\")\n",
    "\n",
    "escriu_productes()"
   ]
  },
  {
   "cell_type": "markdown",
   "metadata": {},
   "source": [
    "## Exercici 4\n",
    "\n",
    "Fes una funció, que escrigui la informació de la matriu 'inventari_neteja' separada per categories.\n",
    "\n",
    "Potser necessites funcions auxiliars per:\n",
    "- Obtenir una llista amb totes les categories\n",
    "- Esriure la informació dels elements d'una determinada categoria\n",
    "\n",
    "Exemple:\n",
    "```python\n",
    "Categoria 'Casa':\n",
    "- Detergent, 5.99\n",
    "- Esprai netejador, 3.49\n",
    "...\n",
    "Categoria 'Personal':\n",
    "- Xampú, 4.99\n",
    "...\n",
    "``````"
   ]
  },
  {
   "cell_type": "code",
   "execution_count": 45,
   "metadata": {},
   "outputs": [
    {
     "name": "stdout",
     "output_type": "stream",
     "text": [
      "Casa\n",
      "   Detergent té un preu de 5.99\n",
      "   Tovalloles de paper té un preu de 2.99\n",
      "   Netejador de vidres té un preu de 4.79\n",
      "   Aspiradora té un preu de 29.69\n",
      "   Esprai netejador té un preu de 3.49\n",
      "Automoció\n",
      "   Netejador d'interiors té un preu de 7.99\n",
      "   Cera de cotxes té un preu de 8.49\n",
      "   Estopa de cotxes té un preu de 1.99\n",
      "Personal\n",
      "   Paper higiènic de luxe té un preu de 7.99\n",
      "   Tovalloletes netejadores té un preu de 6.29\n",
      "   Xampú per al cos té un preu de 4.99\n",
      "   Sabó de mans líquid té un preu de 2.49\n"
     ]
    }
   ],
   "source": [
    "# Fes aquí el codi de l'exercici 4\n",
    "inventari_netja = [\n",
    "    [\"Detergent\",               \"Casa\",         5.99],\n",
    "    [\"Netejador d'interiors\",   \"Automoció\",    7.99],\n",
    "    [\"Tovalloles de paper\",     \"Casa\",         2.99],\n",
    "    [\"Paper higiènic de luxe\",  \"Personal\",     7.99],\n",
    "    [\"Netejador de vidres\",     \"Casa\",         4.79],\n",
    "    [\"Aspiradora\",              \"Casa\",         29.69],\n",
    "    [\"Cera de cotxes\",          \"Automoció\",    8.49],\n",
    "    [\"Tovalloletes netejadores\",  \"Personal\",   6.29],\n",
    "    [\"Xampú per al cos\",        \"Personal\",     4.99],\n",
    "    [\"Sabó de mans líquid\",     \"Personal\",     2.49],\n",
    "    [\"Esprai netejador\",        \"Casa\",         3.49],\n",
    "    [\"Estopa de cotxes\",        \"Automoció\",    1.99],\n",
    "]\n",
    "\n",
    "def llista_categories(inventari):\n",
    "    cats = []\n",
    "    for x in range(0, len(inventari)):\n",
    "        element = inventari[x]\n",
    "        categoria = element[1]\n",
    "        if not (categoria in cats):\n",
    "            cats.append(categoria)\n",
    "    return cats\n",
    "\n",
    "def escriu_categoria(inventari, categoria):\n",
    "    for x in range(0, len(inventari)):\n",
    "        element = inventari[x]\n",
    "        nom = element[0]\n",
    "        preu = element[2]\n",
    "        elm_cat = element[1]\n",
    "        if (elm_cat == categoria):\n",
    "            print(f\"   {nom} té un preu de {preu}\")\n",
    "\n",
    "\n",
    "categories = llista_categories(inventari_netja)\n",
    "for x in range(0, len(categories)):\n",
    "    categoria = categories[x]\n",
    "    print(categoria)\n",
    "    escriu_categoria(inventari_netja, categoria)\n",
    "\n",
    "\n",
    "\n"
   ]
  },
  {
   "cell_type": "code",
   "execution_count": 59,
   "metadata": {},
   "outputs": [
    {
     "name": "stdout",
     "output_type": "stream",
     "text": [
      "Casa\n",
      "Automoció\n",
      "Personal\n"
     ]
    }
   ],
   "source": [
    "inventari_netja = [\n",
    "    [\"Detergent\",               \"Casa\",         5.99],\n",
    "    [\"Netejador d'interiors\",   \"Automoció\",    7.99],\n",
    "    [\"Tovalloles de paper\",     \"Casa\",         2.99],\n",
    "    [\"Paper higiènic de luxe\",  \"Personal\",     7.99],\n",
    "    [\"Netejador de vidres\",     \"Casa\",         4.79],\n",
    "    [\"Aspiradora\",              \"Casa\",         29.69],\n",
    "    [\"Cera de cotxes\",          \"Automoció\",    8.49],\n",
    "    [\"Tovalloletes netejadores\",  \"Personal\",   6.29],\n",
    "    [\"Xampú per al cos\",        \"Personal\",     4.99],\n",
    "    [\"Sabó de mans líquid\",     \"Personal\",     2.49],\n",
    "    [\"Esprai netejador\",        \"Casa\",         3.49],\n",
    "    [\"Estopa de cotxes\",        \"Automoció\",    1.99],\n",
    "]\n",
    "\n",
    "def llista_categories(inventari):\n",
    "    cats = []\n",
    "    for cnt in range(0, len(inventari)):\n",
    "        elm = inventari[cnt]\n",
    "        cat = elm[1]\n",
    "        if not(cat in cats):\n",
    "            cats.append(cat)\n",
    "    return cats\n",
    "\n",
    "def escriu_categories(inventari, llista):\n",
    "    for cnt_c in range(0, len(llista)):\n",
    "        elm_c = llista[cnt_c]\n",
    "        print(elm_c)\n",
    "        for cnt_i in range(0, len(inventari)):\n",
    "            elm_i = inventari[cnt_i]\n",
    "            cat_i = elm_i[1]\n",
    "            if (cat_i == elm_c):\n",
    "                print(f\"   {elm_i}\")\n",
    "\n",
    "llista = llista_categories(inventari_netja)\n",
    "escriu_categories(inventari_netja, llista)"
   ]
  },
  {
   "cell_type": "code",
   "execution_count": 42,
   "metadata": {},
   "outputs": [
    {
     "data": {
      "text/plain": [
       "False"
      ]
     },
     "execution_count": 42,
     "metadata": {},
     "output_type": "execute_result"
    }
   ],
   "source": [
    "5 in [1,2,3]"
   ]
  },
  {
   "cell_type": "markdown",
   "metadata": {},
   "source": [
    "## Exercici 5\n",
    "\n",
    "Fes una funció (mes_llarg) que rebi un array on cada element té diferent longitud, i retorni:\n",
    "\n",
    "* La longitud de l'element més llarg\n",
    "* L'element més llarg"
   ]
  },
  {
   "cell_type": "code",
   "execution_count": null,
   "metadata": {},
   "outputs": [],
   "source": [
    "# Fes aquí el codi de l'exercici 5\n",
    "array_extrany = [\n",
    "    [153.74, 149.08, 129.79, 171.06, 116.25, 131.41, 194.33], \n",
    "    [181.87, 167.69, 149.67, 108.23, 103.14, 160.41, 182.72, 139.0], \n",
    "    [171.8, 185.45, 134.96, 188.69, 130.93, 171.57, 113.02, 117.68, 163.42, 115.94], \n",
    "    [169.12, 142.05, 159.83, 111.91, 113.3, 124.93], \n",
    "    [167.24, 172.77, 172.17, 173.33, 155.55], \n",
    "    [122.62, 159.59, 137.42, 163.53], \n",
    "    [198.59, 110.02, 140.0, 173.99, 177.57, 198.21, 112.09, 182.33, 185.05], \n",
    "    [197.01, 176.23, 119.21, 129.65, 184.99, 194.32, 186.76, 131.82], \n",
    "    [196.99, 130.01, 137.59, 145.12, 131.61, 138.01, 117.73, 148.02, 112.45], \n",
    "    [172.67, 189.0, 150.42, 106.44, 152.11, 122.04, 163.53, 157.69, 178.01, 124.56]\n",
    "]"
   ]
  },
  {
   "cell_type": "markdown",
   "metadata": {},
   "source": [
    "## Exercici 6\n",
    "\n",
    "Fes una funció (sumes_array) que rebi un array on cada element té diferent longitud, i retorni:\n",
    "\n",
    "* Un array amb la suma de tots els valors de cada array interior\n",
    "* La suma total de tots els elements de tots els arrays"
   ]
  },
  {
   "cell_type": "code",
   "execution_count": null,
   "metadata": {},
   "outputs": [],
   "source": [
    "# Fes aquí el codi de l'exercici 6\n",
    "array_extrany = [\n",
    "    [153.74, 149.08, 129.79, 171.06, 116.25, 131.41, 194.33], \n",
    "    [181.87, 167.69, 149.67, 108.23, 103.14, 160.41, 182.72, 139.0], \n",
    "    [171.8, 185.45, 134.96, 188.69, 130.93, 171.57, 113.02, 117.68, 163.42, 115.94], \n",
    "    [169.12, 142.05, 159.83, 111.91, 113.3, 124.93], \n",
    "    [167.24, 172.77, 172.17, 173.33, 155.55], \n",
    "    [122.62, 159.59, 137.42, 163.53], \n",
    "    [198.59, 110.02, 140.0, 173.99, 177.57, 198.21, 112.09, 182.33, 185.05], \n",
    "    [197.01, 176.23, 119.21, 129.65, 184.99, 194.32, 186.76, 131.82], \n",
    "    [196.99, 130.01, 137.59, 145.12, 131.61, 138.01, 117.73, 148.02, 112.45], \n",
    "    [172.67, 189.0, 150.42, 106.44, 152.11, 122.04, 163.53, 157.69, 178.01, 124.56]\n",
    "]"
   ]
  },
  {
   "cell_type": "markdown",
   "metadata": {},
   "source": [
    "## Exercici 7\n",
    "\n",
    "Fes una funció (mitjanes_array) que rebi un array on cada element té diferent longitud, i retorni:\n",
    "\n",
    "* Un array amb la mitjana de tots els valors de cada array interior\n",
    "* La mitjana total de tots els elements de tots els arrays"
   ]
  },
  {
   "cell_type": "code",
   "execution_count": 81,
   "metadata": {},
   "outputs": [],
   "source": [
    "# Fes aquí el codi de l'exercici 7\n",
    "array_extrany = [\n",
    "    [153.74, 149.08, 129.79, 171.06, 116.25, 131.41, 194.33], \n",
    "    [181.87, 167.69, 149.67, 108.23, 103.14, 160.41, 182.72, 139.0], \n",
    "    [171.8, 185.45, 134.96, 188.69, 130.93, 171.57, 113.02, 117.68, 163.42, 115.94], \n",
    "    [169.12, 142.05, 159.83, 111.91, 113.3, 124.93], \n",
    "    [167.24, 172.77, 172.17, 173.33, 155.55], \n",
    "    [122.62, 159.59, 137.42, 163.53], \n",
    "    [198.59, 110.02, 140.0, 173.99, 177.57, 198.21, 112.09, 182.33, 185.05], \n",
    "    [197.01, 176.23, 119.21, 129.65, 184.99, 194.32, 186.76, 131.82], \n",
    "    [196.99, 130.01, 137.59, 145.12, 131.61, 138.01, 117.73, 148.02, 112.45], \n",
    "    [172.67, 189.0, 150.42, 106.44, 152.11, 122.04, 163.53, 157.69, 178.01, 124.56]\n",
    "]"
   ]
  }
 ],
 "metadata": {
  "kernelspec": {
   "display_name": "Python 3",
   "language": "python",
   "name": "python3"
  },
  "language_info": {
   "codemirror_mode": {
    "name": "ipython",
    "version": 3
   },
   "file_extension": ".py",
   "mimetype": "text/x-python",
   "name": "python",
   "nbconvert_exporter": "python",
   "pygments_lexer": "ipython3",
   "version": "3.12.3"
  },
  "orig_nbformat": 4
 },
 "nbformat": 4,
 "nbformat_minor": 2
}
